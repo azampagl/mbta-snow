{
 "cells": [
  {
   "cell_type": "code",
   "execution_count": 178,
   "metadata": {
    "collapsed": true
   },
   "outputs": [],
   "source": [
    "# Libraries.\n",
    "import matplotlib, matplotlib.pyplot as plt\n",
    "import numpy as np\n",
    "import os\n",
    "import pandas as pd\n",
    "import seaborn as sns\n",
    "sns.set_style(\"whitegrid\")\n",
    "sns.set_context(\"paper\")\n",
    "\n",
    "# Setup.\n",
    "% matplotlib inline\n",
    "\n",
    "# Paths.\n",
    "path_data = '../../../data/gatecount_%d/'"
   ]
  },
  {
   "cell_type": "code",
   "execution_count": 3,
   "metadata": {
    "collapsed": false
   },
   "outputs": [
    {
     "data": {
      "text/html": [
       "<div style=\"max-height:1000px;max-width:1500px;overflow:auto;\">\n",
       "<table border=\"1\" class=\"dataframe\">\n",
       "  <thead>\n",
       "    <tr style=\"text-align: right;\">\n",
       "      <th></th>\n",
       "      <th>Unnamed: 0</th>\n",
       "      <th>locationid</th>\n",
       "      <th>entries</th>\n",
       "      <th>servicedate</th>\n",
       "      <th>servicetime_fraction</th>\n",
       "      <th>weekday</th>\n",
       "      <th>month</th>\n",
       "    </tr>\n",
       "  </thead>\n",
       "  <tbody>\n",
       "    <tr>\n",
       "      <th>0</th>\n",
       "      <td> 0</td>\n",
       "      <td> 1002</td>\n",
       "      <td> 0</td>\n",
       "      <td> 2013-01-01 00:00:00</td>\n",
       "      <td> 3.00</td>\n",
       "      <td> 1</td>\n",
       "      <td> 1</td>\n",
       "    </tr>\n",
       "    <tr>\n",
       "      <th>1</th>\n",
       "      <td> 1</td>\n",
       "      <td> 1002</td>\n",
       "      <td> 1</td>\n",
       "      <td> 2013-01-01 00:00:00</td>\n",
       "      <td> 5.00</td>\n",
       "      <td> 1</td>\n",
       "      <td> 1</td>\n",
       "    </tr>\n",
       "    <tr>\n",
       "      <th>2</th>\n",
       "      <td> 2</td>\n",
       "      <td> 1002</td>\n",
       "      <td> 2</td>\n",
       "      <td> 2013-01-01 00:00:00</td>\n",
       "      <td> 5.25</td>\n",
       "      <td> 1</td>\n",
       "      <td> 1</td>\n",
       "    </tr>\n",
       "    <tr>\n",
       "      <th>3</th>\n",
       "      <td> 3</td>\n",
       "      <td> 1002</td>\n",
       "      <td> 3</td>\n",
       "      <td> 2013-01-01 00:00:00</td>\n",
       "      <td> 5.50</td>\n",
       "      <td> 1</td>\n",
       "      <td> 1</td>\n",
       "    </tr>\n",
       "    <tr>\n",
       "      <th>4</th>\n",
       "      <td> 4</td>\n",
       "      <td> 1002</td>\n",
       "      <td> 6</td>\n",
       "      <td> 2013-01-01 00:00:00</td>\n",
       "      <td> 5.75</td>\n",
       "      <td> 1</td>\n",
       "      <td> 1</td>\n",
       "    </tr>\n",
       "  </tbody>\n",
       "</table>\n",
       "</div>"
      ],
      "text/plain": [
       "   Unnamed: 0  locationid  entries          servicedate  servicetime_fraction  \\\n",
       "0           0        1002        0  2013-01-01 00:00:00                  3.00   \n",
       "1           1        1002        1  2013-01-01 00:00:00                  5.00   \n",
       "2           2        1002        2  2013-01-01 00:00:00                  5.25   \n",
       "3           3        1002        3  2013-01-01 00:00:00                  5.50   \n",
       "4           4        1002        6  2013-01-01 00:00:00                  5.75   \n",
       "\n",
       "   weekday  month  \n",
       "0        1      1  \n",
       "1        1      1  \n",
       "2        1      1  \n",
       "3        1      1  \n",
       "4        1      1  "
      ]
     },
     "execution_count": 3,
     "metadata": {},
     "output_type": "execute_result"
    }
   ],
   "source": [
    "gate_1315=pd.read_csv('../../../data/gatecounts_edit_1315.csv')\n",
    "gate_1315.head()"
   ]
  },
  {
   "cell_type": "code",
   "execution_count": 231,
   "metadata": {
    "collapsed": false
   },
   "outputs": [],
   "source": [
    "mbta_daily=pd.read_csv('../../../data/mbta_daily.csv')\n",
    "mbta_daily.head()"
   ]
  },
  {
   "cell_type": "code",
   "execution_count": 228,
   "metadata": {
    "collapsed": false
   },
   "outputs": [],
   "source": [
    "#mbta_daily['month']=map(month_col,mbta_daily['service_day'].values)\n",
    "\n",
    "mbta_daily=mbta_daily[['locationid','service_day','snow','snow_fall']]\n",
    "mbta_daily.head()"
   ]
  },
  {
   "cell_type": "markdown",
   "metadata": {},
   "source": [
    "###Comment:\n",
    "\n",
    "Create a narrow data set containing only snow info for each day"
   ]
  },
  {
   "cell_type": "code",
   "execution_count": 184,
   "metadata": {
    "collapsed": false
   },
   "outputs": [
    {
     "name": "stdout",
     "output_type": "stream",
     "text": [
      "           service_day  snow  snow_fall\n",
      "0  2013-01-01 00:00:00     0          0\n",
      "1  2013-01-02 00:00:00     0          0\n",
      "2  2013-01-03 00:00:00     0          0\n",
      "3  2013-01-04 00:00:00     0          0\n",
      "4  2013-01-05 00:00:00     0          0\n"
     ]
    }
   ],
   "source": [
    "snow_daily=mbta_daily.groupby('service_day').agg(np.mean).reset_index()\n",
    "snow_daily=snow_daily[['service_day','snow','snow_fall']]\n",
    "print snow_daily.head()"
   ]
  },
  {
   "cell_type": "markdown",
   "metadata": {},
   "source": [
    "###Comment:\n",
    "\n",
    "Create a narrow data set containing only rain info for each day"
   ]
  },
  {
   "cell_type": "code",
   "execution_count": 261,
   "metadata": {
    "collapsed": false
   },
   "outputs": [
    {
     "name": "stdout",
     "output_type": "stream",
     "text": [
      "           service_day  rain  rain_fall\n",
      "0  2013-01-01 00:00:00     0          0\n",
      "1  2013-01-02 00:00:00     0          0\n",
      "2  2013-01-03 00:00:00     0          0\n",
      "3  2013-01-04 00:00:00     0          0\n",
      "4  2013-01-05 00:00:00     0          0\n"
     ]
    }
   ],
   "source": [
    "rain_daily=mbta_daily.groupby('service_day').agg(np.mean).reset_index()\n",
    "rain_daily=rain_daily[['service_day','rain','rain_fall']]\n",
    "print rain_daily.head()"
   ]
  },
  {
   "cell_type": "code",
   "execution_count": 264,
   "metadata": {
    "collapsed": false
   },
   "outputs": [
    {
     "name": "stdout",
     "output_type": "stream",
     "text": [
      "           service_day  rain  rain_fall drizzle rain_not_drizzle\n",
      "0  2013-01-01 00:00:00     0          0   False            False\n",
      "1  2013-01-02 00:00:00     0          0   False            False\n",
      "2  2013-01-03 00:00:00     0          0   False            False\n",
      "3  2013-01-04 00:00:00     0          0   False            False\n",
      "4  2013-01-05 00:00:00     0          0   False            False\n"
     ]
    }
   ],
   "source": [
    "rain_daily['drizzle']=(rain_daily['rain']==1)&(rain_daily['rain_fall']<=0.1)\n",
    "rain_daily['rain_not_drizzle']=rain_daily['rain_fall']>0.1\n",
    "\n",
    "print rain_daily.head()"
   ]
  },
  {
   "cell_type": "code",
   "execution_count": 292,
   "metadata": {
    "collapsed": false
   },
   "outputs": [],
   "source": [
    "def split_date(t):\n",
    "    return t.split(' ')[0]\n",
    "\n",
    "\n",
    "rain_daily['service_day']=map(split_date,rain_daily['service_day'].values)\n",
    "rain_daily['service_day']=pd.to_datetime(rain_daily['service_day'], format=\"%Y-%m-%d\")"
   ]
  },
  {
   "cell_type": "markdown",
   "metadata": {},
   "source": [
    "###Comment:\n",
    "\n",
    "Create a narrow data set containing only temperature info for each day"
   ]
  },
  {
   "cell_type": "code",
   "execution_count": 326,
   "metadata": {
    "collapsed": false
   },
   "outputs": [
    {
     "name": "stdout",
     "output_type": "stream",
     "text": [
      "  service_day  temp_mean\n",
      "0  2013-01-01         29\n",
      "1  2013-01-02         21\n",
      "2  2013-01-03         16\n",
      "3  2013-01-04         30\n",
      "4  2013-01-05         35\n"
     ]
    }
   ],
   "source": [
    "\n",
    "temp_daily=mbta_daily.groupby('service_day').agg(np.mean).reset_index()\n",
    "temp_daily=temp_daily[['service_day','temp_mean']]\n",
    "\n",
    "temp_daily['service_day']=map(split_date,temp_daily['service_day'].values)\n",
    "temp_daily['service_day']=pd.to_datetime(temp_daily['service_day'], format=\"%Y-%m-%d\")\n",
    "print temp_daily.head()"
   ]
  },
  {
   "cell_type": "code",
   "execution_count": 327,
   "metadata": {
    "collapsed": false
   },
   "outputs": [
    {
     "name": "stdout",
     "output_type": "stream",
     "text": [
      "  service_day  temp_mean freezing  32_50  50_85    hot\n",
      "0  2013-01-01         29     True  False  False  False\n",
      "1  2013-01-02         21     True  False  False  False\n",
      "2  2013-01-03         16     True  False  False  False\n",
      "3  2013-01-04         30     True  False  False  False\n",
      "4  2013-01-05         35    False   True  False  False\n"
     ]
    }
   ],
   "source": [
    "temp_daily['freezing']=temp_daily['temp_mean']<=32\n",
    "temp_daily['32_50']=(temp_daily['temp_mean']>32)&(temp_daily['temp_mean']<=50)\n",
    "temp_daily['50_85']=(temp_daily['temp_mean']>50)&(temp_daily['temp_mean']<=85)\n",
    "temp_daily['hot']=temp_daily['temp_mean']>85\n",
    "\n",
    "print temp_daily.head()"
   ]
  },
  {
   "cell_type": "markdown",
   "metadata": {},
   "source": [
    "##Determining snow bins\n",
    "\n",
    "It's difficult to create equal-length bins, especially when approximately 75% of snowfall is 0-2 inches. The rest of the bins are as close to equally sized as possible."
   ]
  },
  {
   "cell_type": "code",
   "execution_count": 74,
   "metadata": {
    "collapsed": false
   },
   "outputs": [
    {
     "data": {
      "image/png": "[encoded data removed]",
      "text/plain": [
       "<matplotlib.figure.Figure at 0x1c0aa8d0>"
      ]
     },
     "metadata": {},
     "output_type": "display_data"
    },
    {
     "name": "stdout",
     "output_type": "stream",
     "text": [
      "Snow days  104\n",
      "Trace snow:  37\n",
      "0-2 in snow:  44\n",
      "2-4 in snow:  9\n",
      "4-8 in snow:  6\n",
      "8-15 in snow:  6\n",
      "+15 in snow:  2\n"
     ]
    }
   ],
   "source": [
    "days_with_snow=snow_daily[snow_daily['snow']==1]\n",
    "\n",
    "\n",
    "plt.hist(days_with_snow['snow_fall'].values,bins=10)\n",
    "plt.xlim([0,15])\n",
    "plt.show()\n",
    "\n",
    "\n",
    "print 'Snow days ',len(days_with_snow)\n",
    "print 'Trace snow: ',len(days_with_snow[days_with_snow['snow_fall']==0])\n",
    "print '0-2 in snow: ',len(days_with_snow[(days_with_snow['snow_fall']>0)&(days_with_snow['snow_fall']<=2)])\n",
    "print '2-4 in snow: ',len(days_with_snow[(days_with_snow['snow_fall']>2)&(days_with_snow['snow_fall']<=4)])\n",
    "print '4-8 in snow: ',len(days_with_snow[(days_with_snow['snow_fall']>4)&(days_with_snow['snow_fall']<=8)])\n",
    "print '8-15 in snow: ',len(days_with_snow[(days_with_snow['snow_fall']>8)&(days_with_snow['snow_fall']<=15)])\n",
    "print '+15 in snow: ',len(days_with_snow[(days_with_snow['snow_fall']>15)])\n",
    "\n"
   ]
  },
  {
   "cell_type": "code",
   "execution_count": 351,
   "metadata": {
    "collapsed": false
   },
   "outputs": [
    {
     "name": "stdout",
     "output_type": "stream",
     "text": [
      "   stationid        lat        lon line_1 line_2\n",
      "0       1002  42.329550 -71.056960    Red    NaN\n",
      "1       1004  42.321438 -71.052393    Red    NaN\n",
      "2       1005  42.274816 -71.029176    Red    NaN\n",
      "3       1006  42.265615 -71.019402    Red    NaN\n",
      "4       1007  42.250879 -71.004798    Red    NaN\n"
     ]
    }
   ],
   "source": [
    "station_info=pd.read_csv('../../../data/Stations_clean.csv')\n",
    "station_latlong=pd.read_csv('../../../data/stations_latlong.csv')\n",
    "station_latlong=station_latlong[['stationid','lat','lon','line_1','line_2']]\n",
    "\n",
    "print station_latlong.head()"
   ]
  },
  {
   "cell_type": "code",
   "execution_count": 9,
   "metadata": {
    "collapsed": false
   },
   "outputs": [],
   "source": [
    "station_info[['stationid','name','line_temp']].to_csv('stations_dave.csv')"
   ]
  },
  {
   "cell_type": "code",
   "execution_count": 352,
   "metadata": {
    "collapsed": false
   },
   "outputs": [
    {
     "name": "stdout",
     "output_type": "stream",
     "text": [
      "   Unnamed: 0  stationid           name line_temp  grouping  dist_to_center  \\\n",
      "0           0       1002  Andrew Square       Red         2        3.404767   \n",
      "1           1       1004     JFK/U Mass       Red         0        4.328881   \n",
      "2           2       1005   North Quincy       Red         1        9.777437   \n",
      "3           3       1006      Wollaston       Red         1       10.976943   \n",
      "4           4       1007  Quincy Center       Red         1       12.909591   \n",
      "\n",
      "         lat        lon line_1 line_2  \n",
      "0  42.329550 -71.056960    Red    NaN  \n",
      "1  42.321438 -71.052393    Red    NaN  \n",
      "2  42.274816 -71.029176    Red    NaN  \n",
      "3  42.265615 -71.019402    Red    NaN  \n",
      "4  42.250879 -71.004798    Red    NaN  \n"
     ]
    }
   ],
   "source": [
    "station_info=station_info.merge(station_latlong,on='stationid')\n",
    "print station_info.head()"
   ]
  },
  {
   "cell_type": "code",
   "execution_count": 374,
   "metadata": {
    "collapsed": true
   },
   "outputs": [],
   "source": [
    "'''\n",
    "station_id: station id of interest\n",
    "bins: a list of tuples except for the first and last elements which are singletons. Used for identifying snowfall levels\n",
    "    For example, bins=[ (0), (0,2), (2,4)..., (15)  ]\n",
    "    \n",
    "'''\n",
    "\n",
    "def subset(station_id,bins,begin_time=5.25,end_time=24):\n",
    "    \n",
    "    res={}\n",
    "    res['weekday']={}\n",
    "    res['weekday']['snow']={}\n",
    "    res['weekday']['rain']={}\n",
    "    res['weekday']['temp']={}\n",
    "    \n",
    "    res['weekend']={}\n",
    "    res['weekend']['snow']={}\n",
    "    res['weekend']['rain']={}\n",
    "    res['weekend']['temp']={}\n",
    "    \n",
    "    #get subset of station\n",
    "    station_records=gate_1315[gate_1315['locationid']==station_id]\n",
    "    \n",
    "    #want to subset the dataframe to only include months in which there may be snow\n",
    "    # don't want the seasonal trends of Summer, Spring, early Fall to skew my values for when there \n",
    "    # is no snow\n",
    "    station_records=station_records[(station_records['month']>=10) |(station_records['month']<=3)]\n",
    "    station_records=station_records[station_records['weekday']<5]\n",
    "    station_records=station_records[(station_records['servicetime_fraction']<=end_time) & (station_records['servicetime_fraction']>=begin_time) ]\n",
    "    \n",
    "    # Now merge in the weather data\n",
    "    station_records=station_records.merge(snow_daily,left_on='servicedate',right_on='service_day')\n",
    "    #return station_records\n",
    "\n",
    "    #get subset of snow records\n",
    "    no_snow=station_records[station_records['snow']==False]\n",
    "    #print mean_ridership\n",
    "    \n",
    "    snow=station_records[station_records['snow']==True]  \n",
    "    no_snow_mean=no_snow[['entries','servicetime_fraction']].groupby(['servicetime_fraction']).agg(np.mean)\n",
    "    \n",
    "    res['station_id']=1.*station_id\n",
    "    res['station_name']= station_info[station_info['stationid']==station_id]['name'].values[0]\n",
    "    res['coords']= [station_info[station_info['stationid']==station_id]['lat'].values[0],station_info[station_info['stationid']==station_id]['lon'].values[0]]\n",
    "    \n",
    "    res['line']=list([])\n",
    "    \n",
    "    res['line'].append(station_info[station_info['stationid']==station_id]['line_1'].values[0])\n",
    "    \n",
    "    if(isinstance(station_info[station_info['stationid']==station_id]['line_2'].values[0], basestring) ):\n",
    "        res['line'].append(station_info[station_info['stationid']==station_id]['line_2'].values[0])\n",
    "    \n",
    "    \n",
    "    res['time_intervals']=list(no_snow_mean.index.values)\n",
    "\n",
    "    #print len(res['time_intervals'])\n",
    "    res['weekday']['snow']['mean_ent']=list(no_snow_mean['entries'].values)\n",
    "    res['weekday']['snow']['aggr_ent']=np.sum(list(no_snow_mean['entries'].values))\n",
    "\n",
    "    \n",
    "    # create time series for various snow bins\n",
    "    res['weekday']['snow']['mean_ent_snow']={}\n",
    "    res['weekday']['snow']['aggr_ent_snow']={}\n",
    "    \n",
    "    # create time series for the first, singleton element in bins\n",
    "    snow_subset=snow[snow['snow_fall']==bins[0]]\n",
    "    snow_subset=snow_subset[['entries','servicetime_fraction']].groupby(['servicetime_fraction']).agg(np.mean)\n",
    "    #print len(snow_subset)\n",
    "    res['weekday']['snow']['mean_ent_snow'][str(bins[0])]=list(1.*snow_subset['entries'].values)\n",
    "    res['weekday']['snow']['aggr_ent_snow'][str(bins[0])]=np.sum(list((1.*snow_subset['entries']).values))\n",
    "    \n",
    "    for i in range(1,len(bins)-1):\n",
    "        snow_subset=snow[(snow['snow_fall']>bins[i][0])&(snow['snow_fall']<=bins[i][1])]\n",
    "        snow_subset=snow_subset[['entries','servicetime_fraction']].groupby(['servicetime_fraction']).agg(np.mean)\n",
    "        #print len(snow_subset)\n",
    "        res['weekday']['snow']['mean_ent_snow'][str(bins[i][0])+'_'+str(bins[i][1])]=list(1.*snow_subset['entries'].values)\n",
    "        res['weekday']['snow']['aggr_ent_snow'][str(bins[i][0])+'_'+str(bins[i][1])]=np.sum(list(1.*snow_subset['entries'].values))\n",
    "\n",
    "        \n",
    "    # create time series for the last, singleton element in bins\n",
    "    snow_subset=snow[snow['snow_fall']>=bins[-1]]\n",
    "    snow_subset=snow_subset[['entries','servicetime_fraction']].groupby(['servicetime_fraction']).agg(np.mean)\n",
    "    #print len(snow_subset)\n",
    "    res['weekday']['snow']['mean_ent_snow'][str(bins[(-1)])]=list(1.*snow_subset['entries'].values)\n",
    "    res['weekday']['snow']['aggr_ent_snow'][str(bins[(-1)])]=np.sum(list(1.*snow_subset['entries'].values))\n",
    "    \n",
    "    \n",
    "    #########################\n",
    "    ## Repeat for weekend####\n",
    "    #########################\n",
    "    \n",
    "    #get subset of station\n",
    "    station_records=gate_1315[gate_1315['locationid']==station_id]\n",
    "    \n",
    "    #want to subset the dataframe to only include months in which there may be snow\n",
    "    # don't want the seasonal trends of Summer, Spring, early Fall to skew my values for when there \n",
    "    # is no snow\n",
    "    station_records=station_records[(station_records['month']>=10) |(station_records['month']<=3)]\n",
    "    station_records=station_records[station_records['weekday']>=5]\n",
    "    station_records=station_records[(station_records['servicetime_fraction']<=end_time) & (station_records['servicetime_fraction']>=begin_time) ]\n",
    "    \n",
    "    # Now merge in the weather data\n",
    "    station_records=station_records.merge(snow_daily,left_on='servicedate',right_on='service_day')\n",
    "    #return station_records\n",
    "\n",
    "    #get subset of snow records\n",
    "    no_snow=station_records[station_records['snow']==False]\n",
    "    #print mean_ridership\n",
    "    \n",
    "    snow=station_records[station_records['snow']==True]  \n",
    "    no_snow_mean=no_snow[['entries','servicetime_fraction']].groupby(['servicetime_fraction']).agg(np.mean)\n",
    "\n",
    "    #print len(res['time_intervals'])\n",
    "    res['weekend']['snow']['mean_ent']=list(no_snow_mean['entries'].values)\n",
    "    res['weekend']['snow']['aggr_ent']=np.sum(list(no_snow_mean['entries'].values))\n",
    "\n",
    "    \n",
    "    # create time series for various snow bins\n",
    "    res['weekend']['snow']['mean_ent_snow']={}\n",
    "    res['weekend']['snow']['aggr_ent_snow']={}\n",
    "    \n",
    "    # create time series for the first, singleton element in bins\n",
    "    snow_subset=snow[snow['snow_fall']==bins[0]]\n",
    "    snow_subset=snow_subset[['entries','servicetime_fraction']].groupby(['servicetime_fraction']).agg(np.mean)\n",
    "    #print len(snow_subset)\n",
    "    res['weekend']['snow']['mean_ent_snow'][str(bins[0])]=list(1.*snow_subset['entries'].values)\n",
    "    res['weekend']['snow']['aggr_ent_snow'][str(bins[0])]=np.sum(list((1.*snow_subset['entries']).values))\n",
    "    \n",
    "    for i in range(1,len(bins)-1):\n",
    "        snow_subset=snow[(snow['snow_fall']>bins[i][0])&(snow['snow_fall']<=bins[i][1])]\n",
    "        snow_subset=snow_subset[['entries','servicetime_fraction']].groupby(['servicetime_fraction']).agg(np.mean)\n",
    "        #print len(snow_subset)\n",
    "        res['weekend']['snow']['mean_ent_snow'][str(bins[i][0])+'_'+str(bins[i][1])]=list(1.*snow_subset['entries'].values)\n",
    "        res['weekend']['snow']['aggr_ent_snow'][str(bins[i][0])+'_'+str(bins[i][1])]=np.sum(list(1.*snow_subset['entries'].values))\n",
    "\n",
    "        \n",
    "    # create time series for the last, singleton element in bins\n",
    "    snow_subset=snow[snow['snow_fall']>=bins[-1]]\n",
    "    snow_subset=snow_subset[['entries','servicetime_fraction']].groupby(['servicetime_fraction']).agg(np.mean)\n",
    "    #print len(snow_subset)\n",
    "    res['weekend']['snow']['mean_ent_snow'][str(bins[(-1)])]=list(1.*snow_subset['entries'].values)\n",
    "    res['weekend']['snow']['aggr_ent_snow'][str(bins[(-1)])]=np.sum(list(1.*snow_subset['entries'].values))\n",
    "\n",
    "    ################\n",
    "    ## Rain records#\n",
    "    ################\n",
    "    \n",
    "    #get subset of station\n",
    "    station_records=gate_1315[gate_1315['locationid']==station_id]\n",
    "    \n",
    "    station_records=station_records[station_records['weekday']<5]\n",
    "    station_records=station_records[(station_records['servicetime_fraction']<=end_time) & (station_records['servicetime_fraction']>=begin_time) ]\n",
    "\n",
    "    # Now merge in the weather data\n",
    "    station_records=station_records.merge(rain_daily,left_on='servicedate',right_on='service_day')\n",
    "    #return station_records\n",
    "\n",
    "    #get subset of rain records\n",
    "    no_rain=station_records[station_records['rain']==False]\n",
    "    drizzle=station_records[station_records['drizzle']==True]\n",
    "    rain=station_records[station_records['rain_not_drizzle']==True]  \n",
    "    \n",
    "    no_rain_mean=no_rain[['entries','servicetime_fraction']].groupby(['servicetime_fraction']).agg(np.mean)\n",
    "\n",
    "    #print len(res['time_intervals'])\n",
    "    res['weekday']['rain']['mean_ent']=list(no_rain_mean['entries'].values)\n",
    "    res['weekday']['rain']['aggr_ent']=np.sum(list(no_rain_mean['entries'].values))\n",
    "\n",
    "    \n",
    "    # create time series for various snow bins\n",
    "    res['weekday']['rain']['mean_ent_rain']={}\n",
    "    res['weekday']['rain']['aggr_ent_rain']={}\n",
    "    \n",
    "    # create time series for the first, singleton element in bins\n",
    "    #rain_subset=rain[rain['rain_fall']==bins[0]]\n",
    "    drizzle_subset=drizzle[['entries','servicetime_fraction']].groupby(['servicetime_fraction']).agg(np.mean)\n",
    "    #print len(snow_subset)\n",
    "    res['weekday']['rain']['mean_ent_rain']['drizzle']=list(1.*drizzle_subset['entries'].values)\n",
    "    res['weekday']['rain']['aggr_ent_rain']['drizzle']=np.sum(list((1.*drizzle_subset['entries']).values))\n",
    "        \n",
    "    # create time series for the last, singleton element in bins\n",
    "    #rain_subset=rain[rain['rain_fall']>=bins[-1]]\n",
    "    rain_subset=rain[['entries','servicetime_fraction']].groupby(['servicetime_fraction']).agg(np.mean)\n",
    "    #print len(snow_subset)\n",
    "    res['weekday']['rain']['mean_ent_rain']['rain_no_drizzle']=list(1.*rain_subset['entries'].values)\n",
    "    res['weekday']['rain']['aggr_ent_rain']['rain_no_drizzle']=np.sum(list(1.*rain_subset['entries'].values))\n",
    "    \n",
    "    #################### Now add rain for weekends\n",
    "    \n",
    "    #get subset of station\n",
    "    station_records=gate_1315[gate_1315['locationid']==station_id]\n",
    "    \n",
    "    station_records=station_records[station_records['weekday']>=5]\n",
    "    station_records=station_records[(station_records['servicetime_fraction']<=end_time) & (station_records['servicetime_fraction']>=begin_time) ]\n",
    "\n",
    "    # Now merge in the weather data\n",
    "    station_records=station_records.merge(rain_daily,left_on='servicedate',right_on='service_day')\n",
    "    #return station_records\n",
    "\n",
    "    #get subset of rain records\n",
    "    no_rain=station_records[station_records['rain']==False]\n",
    "    drizzle=station_records[station_records['drizzle']==True]\n",
    "    rain=station_records[station_records['rain_not_drizzle']==True]  \n",
    "    \n",
    "    no_rain_mean=no_rain[['entries','servicetime_fraction']].groupby(['servicetime_fraction']).agg(np.mean)\n",
    "\n",
    "    #print len(res['time_intervals'])\n",
    "    res['weekend']['rain']['mean_ent']=list(no_rain_mean['entries'].values)\n",
    "    res['weekend']['rain']['aggr_ent']=np.sum(list(no_rain_mean['entries'].values))\n",
    "\n",
    "    \n",
    "    # create time series for various snow bins\n",
    "    res['weekend']['rain']['mean_ent_rain']={}\n",
    "    res['weekend']['rain']['aggr_ent_rain']={}\n",
    "    \n",
    "    # create time series for the first, singleton element in bins\n",
    "    #rain_subset=rain[rain['rain_fall']==bins[0]]\n",
    "    drizzle_subset=drizzle[['entries','servicetime_fraction']].groupby(['servicetime_fraction']).agg(np.mean)\n",
    "    #print len(snow_subset)\n",
    "    res['weekend']['rain']['mean_ent_rain']['drizzle']=list(1.*drizzle_subset['entries'].values)\n",
    "    res['weekend']['rain']['aggr_ent_rain']['drizzle']=np.sum(list((1.*drizzle_subset['entries']).values))\n",
    "        \n",
    "    # create time series for the last, singleton element in bins\n",
    "    #rain_subset=rain[rain['rain_fall']>=bins[-1]]\n",
    "    rain_subset=rain[['entries','servicetime_fraction']].groupby(['servicetime_fraction']).agg(np.mean)\n",
    "    #print len(snow_subset)\n",
    "    res['weekend']['rain']['mean_ent_rain']['rain_no_drizzle']=list(1.*rain_subset['entries'].values)\n",
    "    res['weekend']['rain']['aggr_ent_rain']['rain_no_drizzle']=np.sum(list(1.*rain_subset['entries'].values))\n",
    "    \n",
    "    #####################\n",
    "    #### Temperature ####\n",
    "    #####################\n",
    "    \n",
    "     #get subset of station\n",
    "    station_records=gate_1315[gate_1315['locationid']==station_id]\n",
    "    \n",
    "    station_records=station_records[station_records['weekday']<5]\n",
    "    station_records=station_records[(station_records['servicetime_fraction']<=end_time) & (station_records['servicetime_fraction']>=begin_time) ]\n",
    "\n",
    "    # Now merge in the weather data\n",
    "    station_records=station_records.merge(temp_daily,left_on='servicedate',right_on='service_day')\n",
    "    #return station_records\n",
    "    \n",
    "    #get subset of rain records\n",
    "    freezing=station_records[station_records['freezing']==True]\n",
    "    _3250=station_records[station_records['32_50']==True]\n",
    "    _5085=station_records[station_records['50_85']==True]\n",
    "    hot=station_records[station_records['hot']==True]\n",
    "    \n",
    "    reference=station_records[['entries','servicetime_fraction']].groupby(['servicetime_fraction']).agg(np.mean)\n",
    "\n",
    "    #print len(res['time_intervals'])\n",
    "    res['weekday']['temp']['mean_ent']=list(reference['entries'].values)\n",
    "    res['weekday']['temp']['aggr_ent']=np.sum(list(reference['entries'].values))\n",
    "\n",
    "    \n",
    "    # create time series for various snow bins\n",
    "    res['weekday']['temp']['mean_ent_temp']={}\n",
    "    res['weekday']['temp']['aggr_ent_temp']={}\n",
    "    \n",
    "    # create time series for the first, singleton element in bins\n",
    "    #rain_subset=rain[rain['rain_fall']==bins[0]]\n",
    "    freezing_subset=freezing[['entries','servicetime_fraction']].groupby(['servicetime_fraction']).agg(np.mean)\n",
    "    #print len(snow_subset)\n",
    "    res['weekday']['temp']['mean_ent_temp']['freezing']=list(1.*freezing_subset['entries'].values)\n",
    "    res['weekday']['temp']['aggr_ent_temp']['freezing']=np.sum(list((1.*freezing_subset['entries']).values))\n",
    "        \n",
    "\n",
    "    _3250_subset=_3250[['entries','servicetime_fraction']].groupby(['servicetime_fraction']).agg(np.mean)\n",
    "    #print len(snow_subset)\n",
    "    res['weekday']['temp']['mean_ent_temp']['32_50']=list(1.*_3250_subset['entries'].values)\n",
    "    res['weekday']['temp']['aggr_ent_temp']['32_50']=np.sum(list(1.*_3250_subset['entries'].values))\n",
    "    \n",
    "    _5085_subset=_5085[['entries','servicetime_fraction']].groupby(['servicetime_fraction']).agg(np.mean)\n",
    "    #print len(snow_subset)\n",
    "    res['weekday']['temp']['mean_ent_temp']['50_85']=list(1.*_5085_subset['entries'].values)\n",
    "    res['weekday']['temp']['aggr_ent_temp']['50_85']=np.sum(list(1.*_5085_subset['entries'].values))\n",
    "    \n",
    "    hot_subset=freezing[['entries','servicetime_fraction']].groupby(['servicetime_fraction']).agg(np.mean)\n",
    "    #print len(snow_subset)\n",
    "    res['weekday']['temp']['mean_ent_temp']['hot']=list(1.*hot_subset['entries'].values)\n",
    "    res['weekday']['temp']['aggr_ent_temp']['hot']=np.sum(list((1.*hot_subset['entries']).values))\n",
    "    \n",
    "    ###### Add temp for weekends\n",
    "    \n",
    "    #get subset of station\n",
    "    station_records=gate_1315[gate_1315['locationid']==station_id]\n",
    "    \n",
    "    station_records=station_records[station_records['weekday']>=5]\n",
    "    station_records=station_records[(station_records['servicetime_fraction']<=end_time) & (station_records['servicetime_fraction']>=begin_time) ]\n",
    "\n",
    "    # Now merge in the weather data\n",
    "    station_records=station_records.merge(temp_daily,left_on='servicedate',right_on='service_day')\n",
    "    #return station_records\n",
    "    \n",
    "    #get subset of rain records\n",
    "    freezing=station_records[station_records['freezing']==True]\n",
    "    _3250=station_records[station_records['32_50']==True]\n",
    "    _5085=station_records[station_records['50_85']==True]\n",
    "    hot=station_records[station_records['hot']==True]\n",
    "    \n",
    "    reference=station_records[['entries','servicetime_fraction']].groupby(['servicetime_fraction']).agg(np.mean)\n",
    "\n",
    "    #print len(res['time_intervals'])\n",
    "    res['weekend']['temp']['mean_ent']=list(reference['entries'].values)\n",
    "    res['weekend']['temp']['aggr_ent']=np.sum(list(reference['entries'].values))\n",
    "\n",
    "    \n",
    "    # create time series for various snow bins\n",
    "    res['weekend']['temp']['mean_ent_temp']={}\n",
    "    res['weekend']['temp']['aggr_ent_temp']={}\n",
    "    \n",
    "    # create time series for the first, singleton element in bins\n",
    "    #rain_subset=rain[rain['rain_fall']==bins[0]]\n",
    "    freezing_subset=freezing[['entries','servicetime_fraction']].groupby(['servicetime_fraction']).agg(np.mean)\n",
    "    #print len(snow_subset)\n",
    "    res['weekend']['temp']['mean_ent_temp']['freezing']=list(1.*freezing_subset['entries'].values)\n",
    "    res['weekend']['temp']['aggr_ent_temp']['freezing']=np.sum(list((1.*freezing_subset['entries']).values))\n",
    "        \n",
    "\n",
    "    _3250_subset=_3250[['entries','servicetime_fraction']].groupby(['servicetime_fraction']).agg(np.mean)\n",
    "    #print len(snow_subset)\n",
    "    res['weekend']['temp']['mean_ent_temp']['32_50']=list(1.*_3250_subset['entries'].values)\n",
    "    res['weekend']['temp']['aggr_ent_temp']['32_50']=np.sum(list(1.*_3250_subset['entries'].values))\n",
    "    \n",
    "    _5085_subset=_5085[['entries','servicetime_fraction']].groupby(['servicetime_fraction']).agg(np.mean)\n",
    "    #print len(snow_subset)\n",
    "    res['weekend']['temp']['mean_ent_temp']['50_85']=list(1.*_5085_subset['entries'].values)\n",
    "    res['weekend']['temp']['aggr_ent_temp']['50_85']=np.sum(list(1.*_5085_subset['entries'].values))\n",
    "    \n",
    "    hot_subset=freezing[['entries','servicetime_fraction']].groupby(['servicetime_fraction']).agg(np.mean)\n",
    "    #print len(snow_subset)\n",
    "    res['weekend']['temp']['mean_ent_temp']['hot']=list(1.*hot_subset['entries'].values)\n",
    "    res['weekend']['temp']['aggr_ent_temp']['hot']=np.sum(list((1.*hot_subset['entries']).values))\n",
    "    \n",
    "    return res\n",
    "    \n"
   ]
  },
  {
   "cell_type": "code",
   "execution_count": 377,
   "metadata": {
    "collapsed": false
   },
   "outputs": [
    {
     "name": "stdout",
     "output_type": "stream",
     "text": [
      "['time_intervals', 'station_id', 'coords', 'weekday', 'line', 'weekend', 'station_name']\n"
     ]
    }
   ],
   "source": [
    "t=subset(1009,bins=[ (0), (0,2),(2,4),(4,8),(8,15),(15)] ,begin_time=5.25,end_time=24)\n",
    "\n",
    "print t.keys()"
   ]
  },
  {
   "cell_type": "code",
   "execution_count": 309,
   "metadata": {
    "collapsed": false
   },
   "outputs": [],
   "source": [
    "import json"
   ]
  },
  {
   "cell_type": "markdown",
   "metadata": {},
   "source": [
    "### Preparing master list containing series for each station\n",
    "\n",
    "Note: station_id is stored as a float due to serializable issues in json.dump"
   ]
  },
  {
   "cell_type": "code",
   "execution_count": 379,
   "metadata": {
    "collapsed": false
   },
   "outputs": [
    {
     "name": "stdout",
     "output_type": "stream",
     "text": [
      "61\n"
     ]
    }
   ],
   "source": [
    "\n",
    "master_list=list([])\n",
    "\n",
    "station_ids=list(station_info['stationid'].unique())\n",
    "bins_=[ (0), (0,2),(2,4),(4,8),(8,15),(15)]\n",
    "\n",
    "## keys in master dict have to be strings in order to be compatible with json.dump()\n",
    "for station in station_ids:\n",
    "    master_list.append(subset(station,bins= bins_ ,begin_time=5.25,end_time=24))\n",
    "    \n",
    "print len(master_list)\n",
    "    "
   ]
  },
  {
   "cell_type": "code",
   "execution_count": 380,
   "metadata": {
    "collapsed": false
   },
   "outputs": [],
   "source": [
    "# write actual json file\n",
    "filename='station_series.json'\n",
    "\n",
    "with open(filename, 'w') as outfile:\n",
    "    json.dump(master_list, outfile)"
   ]
  },
  {
   "cell_type": "code",
   "execution_count": 321,
   "metadata": {
    "collapsed": false
   },
   "outputs": [
    {
     "name": "stdout",
     "output_type": "stream",
     "text": [
      "5983.36984117\n"
     ]
    }
   ],
   "source": [
    "with open(filename) as data_file:    \n",
    "    data = json.load(data_file)\n",
    "    \n",
    "print data[0]['weekday']['rain']['aggr_ent']"
   ]
  },
  {
   "cell_type": "markdown",
   "metadata": {},
   "source": [
    "## Write shorter, summary json file \n",
    "\n",
    "This json file will be the same as the above one except the series 'mean_ent_snow','mean_ent', and 'time_intervals' will be removed. Wanted to have both available just in case"
   ]
  },
  {
   "cell_type": "code",
   "execution_count": 406,
   "metadata": {
    "collapsed": false
   },
   "outputs": [
    {
     "name": "stdout",
     "output_type": "stream",
     "text": [
      "61\n"
     ]
    }
   ],
   "source": [
    "\n",
    "summary_list=list([])\n",
    "\n",
    "station_ids=list(station_info['stationid'].unique())\n",
    "bins_=[ (0), (0,2),(2,4),(4,8),(8,15),(15)]\n",
    "remove=['mean_ent_snow','mean_ent','time_intervals']\n",
    "\n",
    "## keys in master dict have to be strings in order to be compatible with json.dump()\n",
    "for station in station_ids:\n",
    "    t=subset(station,bins= bins_ ,begin_time=5.25,end_time=24)\n",
    "    \n",
    "    for key in remove:\n",
    "        t.pop(key,None)\n",
    "        \n",
    "    summary_list.append(t)\n",
    "    \n",
    "print len(summary_list)\n",
    "    "
   ]
  },
  {
   "cell_type": "code",
   "execution_count": 407,
   "metadata": {
    "collapsed": true
   },
   "outputs": [],
   "source": [
    "# write actual json file\n",
    "filename='station_summary.json'\n",
    "\n",
    "with open(filename, 'w') as outfile:\n",
    "    json.dump(summary_list, outfile)"
   ]
  },
  {
   "cell_type": "code",
   "execution_count": 408,
   "metadata": {
    "collapsed": false
   },
   "outputs": [
    {
     "data": {
      "text/plain": [
       "{u'aggr_ent': 6010.281460552052,\n",
       " u'aggr_ent_snow': {u'0': 6025.081196581196,\n",
       "  u'0_2': 5606.535349388798,\n",
       "  u'15': 3153.0,\n",
       "  u'2_4': 5475.4285714285725,\n",
       "  u'4_8': 4524.666666666666,\n",
       "  u'8_15': 3771.4833333333336},\n",
       " u'coords': [42.32955, -71.05696],\n",
       " u'station_id': 1002.0,\n",
       " u'station_name': u'Andrew Square'}"
      ]
     },
     "execution_count": 408,
     "metadata": {},
     "output_type": "execute_result"
    }
   ],
   "source": [
    "with open(filename) as data_file:    \n",
    "    data = json.load(data_file)\n",
    "    \n",
    "data[0]"
   ]
  },
  {
   "cell_type": "markdown",
   "metadata": {},
   "source": [
    "##Aggregate Across Stations\n",
    "\n",
    "Generate plot and play with way we'd want to display days of snow."
   ]
  },
  {
   "cell_type": "code",
   "execution_count": 19,
   "metadata": {
    "collapsed": false
   },
   "outputs": [],
   "source": [
    "from sets import Set"
   ]
  },
  {
   "cell_type": "code",
   "execution_count": 137,
   "metadata": {
    "collapsed": true
   },
   "outputs": [],
   "source": [
    "def split_date(t):\n",
    "    return t.split(' ')[0]\n",
    "\n",
    "\n",
    "gate_1315['servicedate']=map(split_date,gate_1315['servicedate'].values)\n",
    "gate_1315['servicedate']=pd.to_datetime(gate_1315['servicedate'], format=\"%Y-%m-%d\")"
   ]
  },
  {
   "cell_type": "code",
   "execution_count": null,
   "metadata": {
    "collapsed": true
   },
   "outputs": [],
   "source": [
    "all_stations=gate_1315.copy()\n",
    "all_count=all_stations[['entries','servicedate']].groupby('servicedate').agg(np.sum)\n"
   ]
  },
  {
   "cell_type": "code",
   "execution_count": 250,
   "metadata": {
    "collapsed": false
   },
   "outputs": [
    {
     "data": {
      "image/png": "[encoded data removed]",
      "text/plain": [
       "<matplotlib.figure.Figure at 0x1fc2d1d0>"
      ]
     },
     "metadata": {},
     "output_type": "display_data"
    }
   ],
   "source": [
    "plt.figure(figsize=(10,6))\n",
    "\n",
    "\n",
    "all_count['smooth']=pd.rolling_mean(all_count['entries'],7)\n",
    "all_count['smooth2']=pd.rolling_mean(all_count['smooth'],7)\n",
    "\n",
    "plt.title('Double Smoothing')\n",
    "plt.plot(all_count.index,all_count['smooth2'],color='red',ls='-',fillstyle='none')\n",
    "\n",
    "for val in snow_daily[snow_daily['snow']==1]['service_day']:\n",
    "    #print val\n",
    "    plt.axvline(x=val,alpha=0.3,color='blue')"
   ]
  }
 ],
 "metadata": {
  "kernelspec": {
   "display_name": "Python 2",
   "language": "python",
   "name": "python2"
  },
  "language_info": {
   "codemirror_mode": {
    "name": "ipython",
    "version": 2
   },
   "file_extension": ".py",
   "mimetype": "text/x-python",
   "name": "python",
   "nbconvert_exporter": "python",
   "pygments_lexer": "ipython2",
   "version": "2.7.7"
  }
 },
 "nbformat": 4,
 "nbformat_minor": 0
}
